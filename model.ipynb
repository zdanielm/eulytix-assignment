{
 "cells": [
  {
   "cell_type": "markdown",
   "metadata": {},
   "source": [
    "# Training a Model to Predict US Congress Votes"
   ]
  },
  {
   "cell_type": "markdown",
   "metadata": {},
   "source": [
    "## 1.: Creating an aggregate DataFrame"
   ]
  },
  {
   "cell_type": "code",
   "execution_count": 1,
   "metadata": {},
   "outputs": [],
   "source": [
    "import pandas as pd\n",
    "import matplotlib.pyplot as plt"
   ]
  },
  {
   "cell_type": "code",
   "execution_count": 2,
   "metadata": {},
   "outputs": [],
   "source": [
    "attendance_df = pd.read_csv('./data/attendance_2024.csv')\n",
    "senators_df = pd.read_csv('./data/senators_2024.csv')\n",
    "vote_details_df = pd.read_csv('./data/vote_details_2024.csv')"
   ]
  },
  {
   "cell_type": "code",
   "execution_count": null,
   "metadata": {},
   "outputs": [],
   "source": [
    "mapping = {\n",
    "    'Bill Passed': 1,\n",
    "    'Nomination Confirmed': 1,\n",
    "    'Cloture Motion Agreed to': 1,\n",
    "    'Motion to Proceed Rejected': 0,\n",
    "    'Amendment Rejected': 0,\n",
    "    'Cloture Motion Rejected': 0,\n",
    "    'Cloture on the Motion to Proceed Rejected': 0,\n",
    "    'Motion Agreed to': 1,\n",
    "    'Point of Order Well Taken': 1,\n",
    "    'Joint Resolution Passed': 1,\n",
    "    'Joint Resolution Defeated': 0,\n",
    "    'Motion to Table Failed': 0,\n",
    "    'Motion to Proceed Agreed to': 1,\n",
    "    'Cloture on the Motion to Proceed Agreed to': 1,\n",
    "    'Bill Defeated': 0,\n",
    "    'Motion to Adjourn Agreed to': 1,\n",
    "    'Motion to Adjourn Rejected': 0,\n",
    "    'Motion Rejected': 0,\n",
    "    'Motion to Table Agreed to': 1,\n",
    "    'Motion to Refer Rejected': 0,\n",
    "    'Motion for Attendance Agreed to': 1,\n",
    "    'Motion to Discharge Rejected': 0,\n",
    "    'Veto Sustained': 0,\n",
    "    'Amendment Agreed to': 1,\n",
    "    'Motion to Reconsider Agreed to': 1\n",
    "}\n",
    "\n",
    "vote_details_df['passed'] = vote_details_df['result'].map(mapping)\n",
    "vote_details_df.head()"
   ]
  },
  {
   "cell_type": "code",
   "execution_count": 14,
   "metadata": {},
   "outputs": [
    {
     "data": {
      "text/plain": [
       "array(['D', 'R', 'I'], dtype=object)"
      ]
     },
     "execution_count": 14,
     "metadata": {},
     "output_type": "execute_result"
    }
   ],
   "source": [
    "aggregated_df = vote_details_df[\"vote_number\"]\n",
    "\n",
    "parties = senators_df['party'].unique()\n",
    "\n",
    "parties"
   ]
  },
  {
   "cell_type": "code",
   "execution_count": null,
   "metadata": {},
   "outputs": [],
   "source": []
  }
 ],
 "metadata": {
  "kernelspec": {
   "display_name": ".venv",
   "language": "python",
   "name": "python3"
  },
  "language_info": {
   "codemirror_mode": {
    "name": "ipython",
    "version": 3
   },
   "file_extension": ".py",
   "mimetype": "text/x-python",
   "name": "python",
   "nbconvert_exporter": "python",
   "pygments_lexer": "ipython3",
   "version": "3.12.2"
  }
 },
 "nbformat": 4,
 "nbformat_minor": 2
}
